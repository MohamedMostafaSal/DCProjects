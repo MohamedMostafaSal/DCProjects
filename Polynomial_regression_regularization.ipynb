{
  "nbformat": 4,
  "nbformat_minor": 0,
  "metadata": {
    "kernelspec": {
      "display_name": "Python 3",
      "language": "python",
      "name": "python3"
    },
    "language_info": {
      "codemirror_mode": {
        "name": "ipython",
        "version": 3
      },
      "file_extension": ".py",
      "mimetype": "text/x-python",
      "name": "python",
      "nbconvert_exporter": "python",
      "pygments_lexer": "ipython3",
      "version": "3.7.6"
    },
    "colab": {
      "name": "Copy of Copy of Polynomial_regression_regularization.ipynb",
      "provenance": [],
      "collapsed_sections": [],
      "include_colab_link": true
    }
  },
  "cells": [
    {
      "cell_type": "markdown",
      "metadata": {
        "id": "view-in-github",
        "colab_type": "text"
      },
      "source": [
        "<a href=\"https://colab.research.google.com/github/MohamedMostafaSal/DCProjects/blob/main/Polynomial_regression_regularization.ipynb\" target=\"_parent\"><img src=\"https://colab.research.google.com/assets/colab-badge.svg\" alt=\"Open In Colab\"/></a>"
      ]
    },
    {
      "cell_type": "markdown",
      "metadata": {
        "id": "eyjewtSBMA95"
      },
      "source": [
        "# Testing and regularization"
      ]
    },
    {
      "cell_type": "code",
      "metadata": {
        "id": "y_RXtj1eMCb3",
        "outputId": "0ee7e8ef-91ce-40ce-92a6-ca69ee66ce83",
        "colab": {
          "base_uri": "https://localhost:8080/"
        }
      },
      "source": [
        "!git clone https://github.com/s7s/machine_learning_1.git\n",
        "%cd  machine_learning_1/polynomial_regression"
      ],
      "execution_count": 3,
      "outputs": [
        {
          "output_type": "stream",
          "name": "stdout",
          "text": [
            "Cloning into 'machine_learning_1'...\n",
            "remote: Enumerating objects: 186, done.\u001b[K\n",
            "remote: Counting objects: 100% (186/186), done.\u001b[K\n",
            "remote: Compressing objects: 100% (134/134), done.\u001b[K\n",
            "remote: Total 186 (delta 85), reused 150 (delta 49), pack-reused 0\u001b[K\n",
            "Receiving objects: 100% (186/186), 34.12 MiB | 22.04 MiB/s, done.\n",
            "Resolving deltas: 100% (85/85), done.\n",
            "/content/machine_learning_1/polynomial_regression\n"
          ]
        }
      ]
    },
    {
      "cell_type": "code",
      "metadata": {
        "id": "YpX56PtFMA-A"
      },
      "source": [
        "import pandas as pd\n",
        "import numpy as np\n",
        "import random\n",
        "import matplotlib.pyplot as plt\n",
        "random.seed(0)"
      ],
      "execution_count": 4,
      "outputs": []
    },
    {
      "cell_type": "markdown",
      "metadata": {
        "id": "WBD0ZY2wMA-B"
      },
      "source": [
        "## Defining our dataset"
      ]
    },
    {
      "cell_type": "code",
      "metadata": {
        "id": "4sDgbZNRMA-C",
        "outputId": "0fac654e-568b-46ee-f199-2f3857f2b1b1",
        "colab": {
          "base_uri": "https://localhost:8080/",
          "height": 269
        }
      },
      "source": [
        "# Our original polynomial is -x^2+x+15\n",
        "coefs = [15,1,-1]\n",
        "\n",
        "def polynomial(coefs, x):\n",
        "    n = len(coefs)\n",
        "    return sum([coefs[i]*x**i for i in range(n)])\n",
        "\n",
        "def draw_polynomial(coefs):\n",
        "    n = len(coefs)\n",
        "    x = np.linspace(-5, 5, 1000)\n",
        "    plt.ylim(-20,20)\n",
        "    plt.plot(x, sum([coefs[i]*x**i for i in range(n)]), linestyle='-', color='black')\n",
        "\n",
        "draw_polynomial(coefs)"
      ],
      "execution_count": 5,
      "outputs": [
        {
          "output_type": "display_data",
          "data": {
            "text/plain": [
              "<Figure size 432x288 with 1 Axes>"
            ],
            "image/png": "[encoded data removed]"
          },
          "metadata": {
            "needs_background": "light"
          }
        }
      ]
    },
    {
      "cell_type": "code",
      "metadata": {
        "id": "WvGqHRFCMA-E"
      },
      "source": [
        "X = []\n",
        "Y = []\n",
        "for i in range(40):\n",
        "    x = random.uniform(-5,5)\n",
        "    y = polynomial(coefs, x) + random.gauss(0,2)\n",
        "    X.append(x)\n",
        "    Y.append(y)\n",
        "X=np.array(X)\n",
        "Y=np.array(Y)"
      ],
      "execution_count": 6,
      "outputs": []
    },
    {
      "cell_type": "code",
      "metadata": {
        "id": "ETQxgGiFMA-E",
        "outputId": "63f5f766-394b-4c04-cc38-3089a18e803a",
        "colab": {
          "base_uri": "https://localhost:8080/",
          "height": 282
        }
      },
      "source": [
        "plt.scatter(X, Y)\n",
        "#draw_polynomial(coefs)"
      ],
      "execution_count": 7,
      "outputs": [
        {
          "output_type": "execute_result",
          "data": {
            "text/plain": [
              "<matplotlib.collections.PathCollection at 0x7f0f5ad36c10>"
            ]
          },
          "metadata": {},
          "execution_count": 7
        },
        {
          "output_type": "display_data",
          "data": {
            "text/plain": [
              "<Figure size 432x288 with 1 Axes>"
            ],
            "image/png": "[encoded data removed]"
          },
          "metadata": {
            "needs_background": "light"
          }
        }
      ]
    },
    {
      "cell_type": "markdown",
      "metadata": {
        "id": "wLUfmV9iMA-F"
      },
      "source": [
        "## Training a polynomial regression model"
      ]
    },
    {
      "cell_type": "code",
      "metadata": {
        "id": "xsNmJ6hoGPjb",
        "outputId": "996bb113-6d9a-4a0d-d382-d954345c89b9",
        "colab": {
          "base_uri": "https://localhost:8080/"
        }
      },
      "source": [
        "for datasample in zip(X,Y):\n",
        "    print(datasample)"
      ],
      "execution_count": 8,
      "outputs": [
        {
          "output_type": "stream",
          "name": "stdout",
          "text": [
            "(3.4442185152504816, 6.685961311021467)\n",
            "(-2.4108324970703663, 4.690236225597948)\n",
            "(0.11274721368608542, 12.205789026637378)\n",
            "(-1.9668727392107255, 11.133217991032268)\n",
            "(-0.23403045847644144, 10.927272159051856)\n",
            "(0.046868558173902564, 12.8584762866286)\n",
            "(-2.1816215560029617, 8.16012255928749)\n",
            "(-2.4949365863755943, 3.5061587527226514)\n",
            "(4.097462559682402, 5.933186396721837)\n",
            "(4.021659504395828, 2.454299054753137)\n",
            "(-1.8985243068066735, 8.956020414039855)\n",
            "(1.8398393191544127, 9.208004401915796)\n",
            "(-0.2785728454728664, 16.36505651355184)\n",
            "(1.1088697344380165, 16.14144978027318)\n",
            "(4.130110532378982, 4.299534274468492)\n",
            "(3.6530992777164, 4.83366913200435)\n",
            "(-2.395076896080406, 7.723543125251446)\n",
            "(-4.8595829983598104, -15.848718674227753)\n",
            "(2.1970468640395415, 9.366124268570305)\n",
            "(1.6815320123185087, 16.070558182542374)\n",
            "(-4.988571806855717, -18.893035332565795)\n",
            "(-2.5608912311286804, 6.043189895391749)\n",
            "(-1.7479563725260991, 11.091071520573042)\n",
            "(0.6751074062067186, 14.272553413210698)\n",
            "(-2.6138407138477984, 9.085321805751548)\n",
            "(-0.5203042856442961, 13.47860807272069)\n",
            "(-4.195541814474646, -7.812998091307244)\n",
            "(4.3283382422690675, 2.748647759010411)\n",
            "(-3.909421540688963, -7.163796336350065)\n",
            "(0.4744091132842376, 14.257854146830486)\n",
            "(3.14466863291336, 3.2664703661537313)\n",
            "(1.0318562796138302, 13.67662422703284)\n",
            "(0.8761706417543635, 12.57404063707232)\n",
            "(-1.1509885402733957, 13.436894195835206)\n",
            "(0.7565101416488851, 14.859288476607356)\n",
            "(-3.132704717444449, 3.3081236367340967)\n",
            "(1.1277317986860673, 13.596584816754236)\n",
            "(-4.1017563880440635, -7.821475002235993)\n",
            "(2.576039219664368, 14.181083579723474)\n",
            "(3.424602231401824, 3.5269925176080537)\n"
          ]
        }
      ]
    },
    {
      "cell_type": "markdown",
      "metadata": {
        "id": "Pze2ZphQMA-G"
      },
      "source": [
        "### Adding columns to our dataset corresponding to $x^2, x^3, \\ldots, x^{200}$"
      ]
    },
    {
      "cell_type": "code",
      "metadata": {
        "id": "c2XZgASOGfVv"
      },
      "source": [
        "from sklearn.preprocessing import PolynomialFeatures\n",
        "def addPoly(X,polyDegree):\n",
        "    ## TODO ##\n",
        "    #use sklearn (PolynomialFeatures method)\n",
        "    poly = PolynomialFeatures(polyDegree,interaction_only=False, include_bias=False)\n",
        "    X = X.reshape(-1, 1)\n",
        "    X = poly.fit_transform(X)\n",
        "    return X\n",
        "X_poly=addPoly(X,200)"
      ],
      "execution_count": 9,
      "outputs": []
    },
    {
      "cell_type": "code",
      "metadata": {
        "id": "kKXdyM7fGzLC",
        "outputId": "72e91ff7-99cc-4784-9f6a-c35e73db1fca",
        "colab": {
          "base_uri": "https://localhost:8080/"
        }
      },
      "source": [
        "print(X_poly.shape)\n",
        "print(X_poly[0,:])"
      ],
      "execution_count": 10,
      "outputs": [
        {
          "output_type": "stream",
          "name": "stdout",
          "text": [
            "(40, 200)\n",
            "[3.44421852e+000 1.18626412e+001 4.08575284e+001 1.40722256e+002\n",
            " 4.84678199e+002 1.66933763e+003 5.74956356e+003 1.98027533e+004\n",
            " 6.82050095e+004 2.34912956e+005 8.09091554e+005 2.78668811e+006\n",
            " 9.59796279e+006 3.30574811e+007 1.13857189e+008 3.92149037e+008\n",
            " 1.35064697e+009 4.65192332e+009 1.60222404e+010 5.51840971e+010\n",
            " 1.90066089e+011 6.54629143e+011 2.25468581e+012 7.76563063e+012\n",
            " 2.67465288e+013 9.21208897e+013 3.17284474e+014 1.09279706e+015\n",
            " 3.76383187e+015 1.29634594e+016 4.46489869e+016 1.53780867e+017\n",
            " 5.29654911e+017 1.82424725e+018 6.28310616e+018 2.16403906e+019\n",
            " 7.45342338e+019 2.56712188e+020 8.84172871e+020 3.04528457e+021\n",
            " 1.04886255e+022 3.61251182e+022 1.24422801e+023 4.28539315e+023\n",
            " 1.47598304e+024 5.08360812e+024 1.75090572e+025 6.03050191e+025\n",
            " 2.07703663e+026 7.15376803e+026 2.46391403e+027 8.48625832e+027\n",
            " 2.92285280e+028 1.00669437e+029 3.46727540e+029 1.19420541e+030\n",
            " 4.11310440e+030 1.41664303e+031 4.87922816e+031 1.68051280e+032\n",
            " 5.78805329e+032 1.99353203e+033 6.86615993e+033 2.36485552e+034\n",
            " 8.14507916e+034 2.80534324e+035 9.66221514e+035 3.32787803e+036\n",
            " 1.14619391e+037 3.94774230e+037 1.35968871e+038 4.68306503e+038\n",
            " 1.61294993e+039 5.55535201e+039 1.91338463e+040 6.59011475e+040\n",
            " 2.26977953e+041 7.81761667e+041 2.69255801e+042 9.27375814e+042\n",
            " 3.19408495e+043 1.10011265e+044 3.78902837e+044 1.30502417e+045\n",
            " 4.49478839e+045 1.54810334e+046 5.33200619e+046 1.83645944e+047\n",
            " 6.32516762e+047 2.17852594e+048 7.50331939e+048 2.58430716e+049\n",
            " 8.90091855e+049 3.06567085e+050 1.05588403e+051 3.63669533e+051\n",
            " 1.25255734e+052 4.31408117e+052 1.48586383e+053 5.11763970e+053\n",
            " 1.76262694e+054 6.07087234e+054 2.09094109e+055 7.20165803e+055\n",
            " 2.48040839e+056 8.54306851e+056 2.94241947e+057 1.01343356e+058\n",
            " 3.49048664e+058 1.20219987e+059 4.14063906e+059 1.42612657e+060\n",
            " 4.91189154e+060 1.69176278e+061 5.82680069e+061 2.00687748e+062\n",
            " 6.91212458e+062 2.38068674e+063 8.19960536e+063 2.82412326e+064\n",
            " 9.72689763e+064 3.35015609e+065 1.15386696e+066 3.97416996e+066\n",
            " 1.36879098e+067 4.71441522e+067 1.62374762e+068 5.59254162e+068\n",
            " 1.92619354e+069 6.63423145e+069 2.28497428e+070 7.86995072e+070\n",
            " 2.71058300e+071 9.33584015e+071 3.21546735e+072 1.10747722e+073\n",
            " 3.81439354e+073 1.31376049e+074 4.52487819e+074 1.55846692e+075\n",
            " 5.36770063e+075 1.84875339e+076 6.36751066e+076 2.19310981e+077\n",
            " 7.55354941e+077 2.60160747e+078 8.96050463e+078 3.08619360e+079\n",
            " 1.06295251e+080 3.66104073e+080 1.26094243e+081 4.34296125e+081\n",
            " 1.49581075e+082 5.15189909e+082 1.77442662e+083 6.11151303e+083\n",
            " 2.10493864e+084 7.24986862e+084 2.49701317e+085 8.60025901e+085\n",
            " 2.96211713e+086 1.02021787e+087 3.51385326e+087 1.21024785e+088\n",
            " 4.16835804e+088 1.43567360e+089 4.94477358e+089 1.70308807e+090\n",
            " 5.86580747e+090 2.02031227e+091 6.95839692e+091 2.39662395e+092\n",
            " 8.25449659e+092 2.84302900e+093 9.79201312e+093 3.37258329e+094\n",
            " 1.16159138e+095 4.00077454e+095 1.37795417e+096 4.74597528e+096\n",
            " 1.63461759e+097 5.62998018e+097 1.93908820e+098 6.67864348e+098\n",
            " 2.30027075e+099 7.92263511e+099 2.72872865e+100 9.39833775e+100\n",
            " 3.23699289e+101 1.11489108e+102 3.83992852e+102 1.32255529e+103\n",
            " 4.55516942e+103 1.56889988e+104 5.40363403e+104 1.86112964e+105\n",
            " 6.41013716e+105 2.20779131e+106 7.60411570e+106 2.61902361e+107]\n"
          ]
        }
      ]
    },
    {
      "cell_type": "markdown",
      "metadata": {
        "id": "S8uYLISVMA-H"
      },
      "source": [
        "## Splitting data into training and testing"
      ]
    },
    {
      "cell_type": "code",
      "metadata": {
        "id": "fVnfiOyqMNLg"
      },
      "source": [
        "from sklearn.model_selection import train_test_split\n",
        "## TODO ##\n",
        "# use sklearn (train_test_split) to split data to 80% training 20% testing\n",
        "X_train, X_test, y_train, y_test = train_test_split(X_poly, Y, test_size=0.2, random_state=42)\n",
        "#X_train, X_test, y_train, y_test =X_train.reshape(-1, 1), X_test.reshape(-1, 1), y_train.reshape(-1, 1), y_test.reshape(-1, 1)"
      ],
      "execution_count": 11,
      "outputs": []
    },
    {
      "cell_type": "markdown",
      "source": [
        ""
      ],
      "metadata": {
        "id": "LTj3FJFhmN1C"
      }
    },
    {
      "cell_type": "code",
      "metadata": {
        "id": "WmHYknzXMA-I"
      },
      "source": [
        "from sklearn.metrics import mean_squared_error\n",
        "def display_results(model):\n",
        "    coefs = [model.intercept_]\n",
        "    coefs += list(model.coef_)\n",
        "    ytrain_predict=model.predict(X_train)\n",
        "    ytest_predict=model.predict(X_test)\n",
        "    train_error=np.sqrt(mean_squared_error(y_train,ytrain_predict))\n",
        "    test_error=np.sqrt(mean_squared_error(y_test,ytest_predict))\n",
        "    print(\"Training error (rmse):\", train_error)\n",
        "    print(\"Testing error (rmse):\", test_error)\n",
        "    plt.scatter(X_train[:,0], y_train, marker='o')\n",
        "    plt.scatter(X_test[:,0], y_test, marker='^')\n",
        "    draw_polynomial(coefs)\n",
        "    plt.show()\n",
        "    print(\"Polynomial coefficients\")\n",
        "    print(coefs)"
      ],
      "execution_count": 12,
      "outputs": []
    },
    {
      "cell_type": "markdown",
      "metadata": {
        "id": "G9x4Q5S3MA-I"
      },
      "source": [
        "## Training a polynomial regression model with no regularization"
      ]
    },
    {
      "cell_type": "code",
      "metadata": {
        "id": "QKm7sV7JMA-J",
        "outputId": "53e1dce4-4a65-4571-bf3b-e115cb477b19",
        "colab": {
          "base_uri": "https://localhost:8080/"
        }
      },
      "source": [
        "from sklearn.linear_model import LinearRegression\n",
        "## TODO ##\n",
        "# use sklearn linear regression to fit the data \n",
        "# normalization trick ;)\n",
        "\n",
        "model_no_reg = LinearRegression(normalize = True).fit(X_train, y_train)\n",
        "model_no_reg.score(X_train,y_train)\n",
        "#model_no_reg.score(X_test,y_test)\n"
      ],
      "execution_count": 13,
      "outputs": [
        {
          "output_type": "stream",
          "name": "stderr",
          "text": [
            "/usr/local/lib/python3.7/dist-packages/sklearn/linear_model/_base.py:145: FutureWarning: 'normalize' was deprecated in version 1.0 and will be removed in 1.2.\n",
            "If you wish to scale the data, use Pipeline with a StandardScaler in a preprocessing stage. To reproduce the previous behavior:\n",
            "\n",
            "from sklearn.pipeline import make_pipeline\n",
            "\n",
            "model = make_pipeline(StandardScaler(with_mean=False), LinearRegression())\n",
            "\n",
            "If you wish to pass a sample_weight parameter, you need to pass it as a fit parameter to each step of the pipeline as follows:\n",
            "\n",
            "kwargs = {s[0] + '__sample_weight': sample_weight for s in model.steps}\n",
            "model.fit(X, y, **kwargs)\n",
            "\n",
            "\n",
            "  FutureWarning,\n"
          ]
        },
        {
          "output_type": "execute_result",
          "data": {
            "text/plain": [
              "0.9980577592354908"
            ]
          },
          "metadata": {},
          "execution_count": 13
        }
      ]
    },
    {
      "cell_type": "code",
      "metadata": {
        "id": "uje8MamakgwD",
        "outputId": "924fb379-6d01-4052-81d7-597c1a6be0ae",
        "colab": {
          "base_uri": "https://localhost:8080/",
          "height": 359
        }
      },
      "source": [
        "display_results(model_no_reg)"
      ],
      "execution_count": 14,
      "outputs": [
        {
          "output_type": "stream",
          "name": "stdout",
          "text": [
            "Training error (rmse): 0.3567881692971798\n",
            "Testing error (rmse): 4012607744.6244097\n"
          ]
        },
        {
          "output_type": "display_data",
          "data": {
            "text/plain": [
              "<Figure size 432x288 with 1 Axes>"
            ],
            "image/png": "[encoded data removed]"
          },
          "metadata": {
            "needs_background": "light"
          }
        },
        {
          "output_type": "stream",
          "name": "stdout",
          "text": [
            "Polynomial coefficients\n",
            "[13.211416695237151, -10.3074878157032, 22.755133890731628, -18.506058793622064, 9.265920236421874, 413.5975610155903, -550.858521769193, -922.4895387108564, 1162.0937691572865, 963.7382126352123, -1025.2308499584665, -589.4888568874775, 481.0261759455312, 220.99202513918195, -131.56842694611862, -50.67772355772799, 21.62740139961197, 6.864213763445388, -2.0800955560294927, -0.4891468307810222, 0.10018840916864137, 0.010399902944668688, -0.0005457921009492943, 0.0005614346270966191, -0.00011922871408458373, -1.0626854090175323e-05, -4.882751200471901e-07, -1.0078102139539948e-06, 1.4688568339884817e-07, -1.956533726129056e-08, 6.021758254336949e-09, 4.88506450785054e-10, 7.03608745893588e-11, 4.786217273302908e-11, -4.832982378231774e-12, 1.9162511187927574e-12, -3.8785737905879177e-13, 5.118004030923846e-14, -1.7660552437340648e-14, 8.618004824614322e-16, -6.16562220481481e-16, -2.4083734981056254e-19, -1.7146686403060322e-17, -6.971359938147363e-19, -3.3492310423645786e-19, -3.299576261345283e-20, -1.8161636763032695e-22, -9.989637633755914e-22, 4.23921867373891e-22, -1.9804631846088177e-23, 2.948382444539919e-23, -4.8498040956185794e-26, 1.4994378202861263e-24, 1.8507179012823152e-26, 6.649462833851938e-26, 1.1289964211435102e-27, 2.7295275033959074e-27, 4.574446065267215e-29, 1.0664838881634387e-28, 1.394411499090263e-30, 4.023798551700226e-30, 2.688486414059018e-32, 1.4827328817679528e-31, -2.453085634186136e-34, 5.370423050325611e-33, -6.429071211765599e-35, 1.9217964441349436e-34, -4.477236536200435e-36, 6.825735285814094e-36, -2.449897475340151e-37, 2.413908378845768e-37, -1.191655109004595e-38, 8.5149684066977e-39, -5.364372668559732e-40, 3.000225177158566e-40, -2.3050995185394385e-41, 1.0600735996663759e-41, -9.571691803571548e-43, 3.75066000060656e-43, -3.8522233288359215e-44, 1.3287137333639903e-44, -1.518836701493887e-45, 4.706532898054815e-46, -5.901524697485226e-47, 1.6696642733589385e-47, -2.2567076763044178e-48, 5.942356143709869e-49, -8.488271822465908e-50, 2.1110182574248928e-50, -3.170887252860769e-51, 7.493147758913211e-52, -1.1749220243040171e-52, 2.6488959681559177e-53, -4.253375734461452e-54, 9.281111404994161e-55, -1.5260807226874862e-55, 3.239724839409297e-56, -5.448659735069138e-57, 1.1231624384260806e-57, -1.8963199624864754e-58, 3.8273330707893406e-59, -6.558354611206174e-60, 1.2914610882288748e-60, -2.2077037944510373e-61, 4.245021346479193e-62, -7.180424355464515e-63, 1.3505075093384905e-63, -2.2363193265186167e-64, 4.012392545966735e-65, -6.549658488460127e-66, 1.1183734902837402e-66, -1.664427331553283e-67, 2.5687723259525157e-68, -2.9473939550515866e-69, 2.9825206061085844e-70, 1.6572407251297011e-71, -1.4838511208525025e-71, 6.327614190123787e-72, -1.6943043090740322e-72, 4.5179278515151476e-73, -1.0902581255936236e-73, 2.6097457639372643e-74, -5.8454560577592255e-75, 1.330581824495837e-75, -2.9424582548561276e-76, 6.53770266489357e-77, -1.4061670356781792e-77, 3.0532968541884504e-78, -6.504709717741545e-79, 1.3817619339157013e-79, -2.9442946309319896e-80, 6.230169285616382e-81, -1.309832916813834e-81, 2.75699248378812e-82, -5.7537803151076805e-83, 1.190914738434241e-83, -2.462866444333551e-84, 5.1406765341711473e-85, -1.0737233623184422e-85, 2.1947648179601363e-86, -4.5480686711083375e-87, 9.407796856657863e-88, -1.9374259055370377e-88, 3.95486319433256e-89, -8.083784404958598e-90, 1.663373390546676e-90, -3.4016999704776397e-91, 6.973509140231427e-92, -1.4188960745131422e-92, 2.9154130928529536e-93, -5.968740402312689e-94, 1.201976265414864e-94, -2.4674115976869805e-95, 5.021808753866781e-96, -1.0188314836909334e-96, 2.079819142291317e-97, -4.222239106782797e-98, 8.555090884494791e-99, -1.7408701559728645e-99, 3.526834407164857e-100, -7.188926628535513e-101, 1.4536359685988667e-101, -2.9397881030901955e-102, 5.959174869082891e-103, -1.2034140726130084e-103, 2.4500223049636674e-104, -4.9426887973216184e-105, 1.0014558012798093e-105, -2.015228211186065e-106, 4.094231983642818e-107, -8.296272276371302e-108, 1.6677462647981891e-108, -3.3850853078087744e-109, 6.797045234014945e-110, -1.3730927067164997e-110, 2.775269680406492e-111, -5.590476280822402e-112, 1.1308834073812058e-112, -2.2790013578991603e-113, 4.589618308362332e-114, -9.253464004556665e-115, 1.8735600941023904e-115, -3.762442676201748e-116, 7.616005492777935e-117, -1.53110443810791e-117, 3.091656643128965e-118, -6.211593173812346e-119, 1.2532951847397323e-119, -2.5155187270165958e-120, 5.0600124921988615e-121, -1.0211271664648713e-121, 2.0626096791420544e-122, -4.136765926956901e-123, 8.353906711890434e-124, -1.67623438766581e-124, 3.371496709834451e-125, -6.781502473780948e-126, 1.3639696693459582e-126, -2.7436238590801494e-127, 5.531275299847814e-128, -1.1081844428297333e-128]\n"
          ]
        }
      ]
    },
    {
      "cell_type": "markdown",
      "metadata": {
        "id": "TLTU-3ojMA-J"
      },
      "source": [
        "## Training a polynomial regression model with L1 regularization"
      ]
    },
    {
      "cell_type": "code",
      "metadata": {
        "id": "sBfyPNvMMA-J",
        "colab": {
          "base_uri": "https://localhost:8080/"
        },
        "outputId": "67465071-9e8b-4244-99cb-d58aa047a218"
      },
      "source": [
        "from sklearn import linear_model\n",
        "## TODO ##\n",
        "# use sklearn Lasso (linear regression with L1 Norm) to fit the data \n",
        "# normalization trick ;)\n",
        "model_L1_reg = linear_model.Lasso(alpha=0.1)\n",
        "model_L1_reg.fit(X_train,y_train)\n",
        " "
      ],
      "execution_count": 18,
      "outputs": [
        {
          "output_type": "stream",
          "name": "stderr",
          "text": [
            "/usr/local/lib/python3.7/dist-packages/sklearn/linear_model/_coordinate_descent.py:648: ConvergenceWarning: Objective did not converge. You might want to increase the number of iterations, check the scale of the features or consider increasing regularisation. Duality gap: 5.403e+01, tolerance: 2.097e-01\n",
            "  coef_, l1_reg, l2_reg, X, y, max_iter, tol, rng, random, positive\n"
          ]
        },
        {
          "output_type": "execute_result",
          "data": {
            "text/plain": [
              "Lasso(alpha=0.1)"
            ]
          },
          "metadata": {},
          "execution_count": 18
        }
      ]
    },
    {
      "cell_type": "code",
      "metadata": {
        "id": "LOYlQsU5MA-K",
        "colab": {
          "base_uri": "https://localhost:8080/",
          "height": 359
        },
        "outputId": "c1676fb5-74c5-45cb-8440-921efe065f92"
      },
      "source": [
        "display_results(model_L1_reg)"
      ],
      "execution_count": 19,
      "outputs": [
        {
          "output_type": "stream",
          "name": "stdout",
          "text": [
            "Training error (rmse): 1.7795075124042945\n",
            "Testing error (rmse): 3.5404811820057205\n"
          ]
        },
        {
          "output_type": "display_data",
          "data": {
            "text/plain": [
              "<Figure size 432x288 with 1 Axes>"
            ],
            "image/png": "[encoded data removed]"
          },
          "metadata": {
            "needs_background": "light"
          }
        },
        {
          "output_type": "stream",
          "name": "stdout",
          "text": [
            "Polynomial coefficients\n",
            "[13.711982572187488, 0.32805947700745514, -0.6096249676097821, 0.07120883100014554, -0.03907672361807959, -0.004317327136243088, -0.0002726168781496218, 4.355062679571954e-05, 1.6722020105330612e-05, 4.822316911909144e-06, 1.385834338617761e-06, 2.3088625585436764e-07, 6.196617071069096e-08, 9.035613865466712e-09, 2.2598566133999965e-09, 3.203254811977015e-10, 7.493447083555044e-11, 1.0734536532962782e-11, 2.3626815989747358e-12, 3.475572726898966e-13, 7.234129954909098e-14, 1.100226566596342e-14, 2.17277626221151e-15, 3.4284476039870193e-16, 6.431182247065684e-17, 1.0561437793103885e-17, 1.879059870165777e-18, 3.226371011938986e-19, 5.419280701814321e-20, 9.800602520305887e-21, 1.5406752509657749e-21, 2.968363382288528e-22, 4.3059523579000866e-23, 8.990313770060962e-24, 1.177547820403781e-24, 2.7316632776207993e-25, 3.125558151425523e-26, 8.356279799342009e-27, 7.934324230528974e-28, 2.5832638312555155e-28, 1.8691987350287254e-29, 8.100936395284561e-30, 3.7889620287615513e-31, 2.5859032286230366e-31, 4.851696245071751e-33, 8.425274407155677e-33, -8.977228041070143e-35, 2.806456472796842e-34, -1.1266592749069814e-35, 9.560338008045249e-36, -6.529757581384759e-37, 3.3274196377098897e-37, -3.1249869580129893e-38, 1.1808384116409234e-38, -1.3720495728528783e-39, 4.261588783060279e-40, -5.744610659344448e-41, 1.5595432535194438e-41, -2.336394164997675e-42, 5.771038093608201e-43, -9.324999343691795e-44, 2.1540534232489605e-44, -3.6747700795733505e-45, 8.092665199631557e-46, -1.4354473137806192e-46, 3.0550829117747374e-47, -5.572441611951588e-48, 1.157381885171373e-48, -2.153634640402686e-49, 4.395580696967134e-50, -8.296592531099836e-51, 1.672309403750803e-51, -3.18863163530359e-52, 6.370001109693955e-53, -1.2233573735798834e-53, 2.4283575637106294e-54, -4.687474643819377e-55, 9.262177080036146e-56, -1.794321152446322e-56, 3.5338996316323997e-57, -6.863385373712117e-58, 1.3485771744099187e-58, -2.6237826537126975e-59, 5.146792549924987e-60, -1.0025902648975036e-60, 1.9643061248827048e-61, -3.829712244453486e-62, 7.496789543093248e-63, -1.4624686107306172e-63, 2.8610393867842932e-64, -5.583519392699006e-65, 1.0918126480007585e-65, -2.131319039915971e-66, 4.166244609494342e-67, -8.134329560728042e-68, 1.5896902417427236e-68, -3.1041226097640916e-69, 6.065289058684557e-70, -1.1844275485629297e-70, 2.313997023831205e-71, -4.518951856854813e-72, 8.827708239822944e-73, -1.7239802439599904e-73, 3.367510088673182e-74, -6.576532900264011e-75, 1.2845399153334994e-75, -2.5086256876069605e-76, 4.899661633714778e-77, -9.568685659503224e-78, 1.8688150865880226e-78, -3.6496327973481725e-79, 7.127713027651064e-80, -1.3919672441015674e-80, 2.718438222750206e-81, -5.308770982205404e-82, 1.0367540495529191e-82, -2.0246314769419434e-83, 3.953852928673276e-84, -7.721232858386179e-85, 1.5078395598595099e-85, -2.94453986066071e-86, 5.750171973169027e-87, -1.1228962293557023e-87, 2.1927984532917825e-88, -4.282075615292288e-89, 8.361992495525328e-90, -1.632911155789704e-90, 3.1887090451067855e-91, -6.22680366330114e-92, 1.2159476292986319e-92, -2.3744495962331404e-93, 4.6367150850371965e-94, -9.054335619116551e-95, 1.7680809400420506e-95, -3.452603266755717e-96, 6.742029129432208e-97, -1.3165390764625205e-97, 2.5708477099480225e-98, -5.020168445096619e-99, 9.80301706448802e-100, -1.9142590019953832e-100, 3.738016664828105e-101, -7.299302195672197e-102, 1.4253486686850482e-102, -2.783303384969668e-103, 5.4350019072154635e-104, -1.061301040355369e-104, 2.0724175159748886e-105, -4.0468370398509615e-106, 7.902308930634067e-107, -1.543093143408656e-107, 3.01321519990824e-108, -5.883937518699903e-109, 1.148962528699481e-109, -2.243590596075099e-110, 4.381081191568285e-111, -8.554979200476656e-112, 1.6705388862440135e-112, -3.262077045955878e-113, 6.369888647925031e-114, -1.2438542196010534e-114, 2.4288861076450397e-115, -4.7429096884460356e-116, 9.261527110519436e-117, -1.8085078728212042e-117, 3.531492302896793e-118, -6.895983167366682e-119, 1.3465863068830048e-119, -2.629494551623602e-120, 5.134645208071435e-121, -1.002648469162788e-121, 1.9578843843927e-122, -3.823186533360699e-123, 7.465588238655877e-124, -1.4578158977327098e-124, 2.8466982650713736e-125, -5.558790415811352e-126, 1.0854736201055461e-126, -2.1196217095424685e-127, 4.139020311843167e-128, -8.082335441706398e-129, 1.578251822802906e-129, -3.081880850797909e-130, 6.018046034666719e-131, -1.1751553541493967e-131, 2.2947489432416216e-132, -4.4810025432532846e-133, 8.750146390443917e-134, -1.7086596500347742e-134, 3.3365368392113186e-135, -6.515329741115788e-136, 1.2722632740032466e-136, -2.484378115730539e-137, 4.8513042479753374e-138, -9.473259655573725e-139, 1.84986689808544e-139, -3.612281865089866e-140, 7.053795896620551e-141, -1.3774132449401345e-141, 2.6897116652987453e-142, -5.25227313923676e-143]\n"
          ]
        }
      ]
    },
    {
      "cell_type": "markdown",
      "metadata": {
        "id": "21v4zgmbMA-K"
      },
      "source": [
        "## Training a polynomial regression model with L2 regularization"
      ]
    },
    {
      "cell_type": "code",
      "metadata": {
        "id": "MrSeiPXPMA-K",
        "colab": {
          "base_uri": "https://localhost:8080/"
        },
        "outputId": "b86ec161-f94b-4c2f-9451-885fe490dc5b"
      },
      "source": [
        "from sklearn import linear_model\n",
        "from sklearn.linear_model import Ridge\n",
        "## TODO ##\n",
        "# use sklearn Ridge (linear regression with L2 Norm) to fit the data \n",
        "# normalization trick ;)\n",
        "\n",
        "model_L2_reg= Ridge(alpha=0.1,normalize = True)\n",
        "model_L2_reg.fit(X_train,y_train)"
      ],
      "execution_count": 27,
      "outputs": [
        {
          "output_type": "stream",
          "name": "stderr",
          "text": [
            "/usr/local/lib/python3.7/dist-packages/sklearn/linear_model/_base.py:145: FutureWarning: 'normalize' was deprecated in version 1.0 and will be removed in 1.2.\n",
            "If you wish to scale the data, use Pipeline with a StandardScaler in a preprocessing stage. To reproduce the previous behavior:\n",
            "\n",
            "from sklearn.pipeline import make_pipeline\n",
            "\n",
            "model = make_pipeline(StandardScaler(with_mean=False), Ridge())\n",
            "\n",
            "If you wish to pass a sample_weight parameter, you need to pass it as a fit parameter to each step of the pipeline as follows:\n",
            "\n",
            "kwargs = {s[0] + '__sample_weight': sample_weight for s in model.steps}\n",
            "model.fit(X, y, **kwargs)\n",
            "\n",
            "Set parameter alpha to: original_alpha * n_samples. \n",
            "  FutureWarning,\n"
          ]
        },
        {
          "output_type": "execute_result",
          "data": {
            "text/plain": [
              "Ridge(alpha=0.1, normalize=True)"
            ]
          },
          "metadata": {},
          "execution_count": 27
        }
      ]
    },
    {
      "cell_type": "code",
      "metadata": {
        "id": "TyLoFFM_MA-L",
        "colab": {
          "base_uri": "https://localhost:8080/",
          "height": 359
        },
        "outputId": "3857f015-6c81-473a-8c5a-8c143c28db51"
      },
      "source": [
        "display_results(model_L2_reg)"
      ],
      "execution_count": 28,
      "outputs": [
        {
          "output_type": "stream",
          "name": "stdout",
          "text": [
            "Training error (rmse): 2.041767885562139\n",
            "Testing error (rmse): 2.0994601821629875\n"
          ]
        },
        {
          "output_type": "display_data",
          "data": {
            "text/plain": [
              "<Figure size 432x288 with 1 Axes>"
            ],
            "image/png": "[encoded data removed]"
          },
          "metadata": {
            "needs_background": "light"
          }
        },
        {
          "output_type": "stream",
          "name": "stdout",
          "text": [
            "Polynomial coefficients\n",
            "[12.925586427640066, 0.4249079611508333, -0.6010293830185508, 0.018713565705351803, -0.012505065638264671, 0.0008853575173436271, -0.00021469900525205893, 3.389335819807357e-05, -2.583246888186686e-06, 1.0995866575405695e-06, 1.280713693809529e-08, 3.14199164699757e-08, 2.579473902481872e-09, 7.959802936255492e-10, 1.3515434461102213e-10, 1.7045505275554146e-11, 5.728990483168685e-12, 2.406413726057388e-13, 2.249828479776646e-13, -2.9227860381826568e-15, 8.55633247768433e-15, -4.609067860396828e-16, 3.211272760456644e-16, -2.7526185955212497e-17, 1.1999173754632936e-17, -1.3301895895846884e-18, 4.482350327947647e-19, -5.856454337362813e-20, 1.6768532412182547e-20, -2.4501377159019183e-21, 6.285324157439761e-22, -9.934248771973863e-23, 2.3601207471282092e-23, -3.945456078503685e-24, 8.873953899042998e-25, -1.54458108583039e-25, 3.339135867687141e-26, -5.983878604318479e-27, 1.2567282266519874e-27, -2.299952118238167e-28, 4.7284041765144936e-29, -8.785171332784143e-30, 1.7776879109150836e-30, -3.3386093487108942e-31, 6.675621387641357e-32, -1.2632506982129952e-32, 2.5030664123423654e-33, -4.761373787869064e-34, 9.36834297980711e-35, -1.788220734687678e-35, 3.498951574655038e-36, -6.692999165857538e-37, 1.3036960317657394e-37, -2.4965827194685114e-38, 4.8445549441091084e-39, -9.280449579059776e-40, 1.7948889010025822e-40, -3.4373473328498986e-41, 6.627947259225671e-42, -1.2682480171339614e-42, 2.438413270676111e-43, -4.659778986509327e-44, 8.933469668236433e-45, -1.7041743274974542e-45, 3.2574172650347483e-46, -6.200136645172887e-47, 1.181317376112227e-47, -2.2423699399609388e-48, 4.2571962499921075e-49, -8.054151529336842e-50, 1.5228776225744113e-50, -2.8694690340206905e-51, 5.399656762777788e-52, -1.0123714515370065e-52, 1.8940619484708562e-53, -3.529125545098342e-54, 6.555485719202598e-55, -1.2117908310591783e-55, 2.230323170641579e-56, -4.0798543862509717e-57, 7.41733431973626e-58, -1.3374489249448908e-58, 2.3898688110727667e-59, -4.219824438062059e-60, 7.345711963423587e-61, -1.254444442537464e-61, 2.089152256536213e-62, -3.355057732259618e-63, 5.09991852984233e-64, -7.04313956631993e-65, 7.909976346131046e-66, -3.715509420809556e-67, -1.625820620336505e-67, 7.893320682257014e-68, -2.4872531087388343e-68, 6.754564612046353e-69, -1.699408490095356e-69, 4.081521521219388e-70, -9.499813761390292e-71, 2.161830189884723e-71, -4.836476194188808e-72, 1.0677547345259287e-72, -2.332263794644832e-73, 5.049980818018572e-74, -1.0854980879480724e-74, 2.318918499917017e-75, -4.927620834399751e-76, 1.0423030618625819e-76, -2.195851890440589e-77, 4.609695938008394e-78, -9.646557424295235e-79, 2.0130267696474096e-79, -4.190120825394334e-80, 8.701820563424864e-81, -1.8033974131856403e-81, 3.730360536993912e-82, -7.702962958964382e-83, 1.5880872135889312e-83, -3.2692998170391335e-84, 6.721214099141589e-85, -1.3800553427137405e-85, 2.830349668904025e-86, -5.798470305079956e-87, 1.1867200375192048e-87, -2.426460633514358e-88, 4.956949774844716e-89, -1.0118027428337898e-89, 2.0636643508202074e-90, -4.2059498248229606e-91, 8.566221550223172e-92, -1.743538710842256e-92, 3.54655404967308e-93, -7.20989088875366e-94, 1.464911238935691e-94, -2.9748621979189012e-95, 6.038191448555689e-96, -1.2250170879475928e-96, 2.484177964136933e-97, -5.035445919154489e-98, 1.0202735451457308e-98, -2.0664600020953185e-99, 4.1838566345547533e-100, -8.467851887068881e-101, 1.713259726717502e-101, -3.465238093349549e-102, 7.006625973867727e-103, -1.4163040205187144e-103, 2.8620758711594675e-104, -5.7821320450346405e-105, 1.1678361428090827e-105, -2.358128362004205e-106, 4.760460187788334e-107, -9.607945248264785e-108, 1.9387245126359667e-108, -3.911194398345859e-109, 7.888854745259669e-110, -1.5908643157829255e-110, 3.2075257504225553e-111, -6.465886095568001e-112, 1.3031960343680864e-112, -2.626140960143161e-113, 5.2912168089164004e-114, -1.065920608301486e-114, 2.1469818079429867e-115, -4.3238278529916086e-116, 8.706571491412294e-117, -1.7529390576161834e-117, 3.528818922639889e-118, -7.102917823153147e-119, 1.4295223152817058e-119, -2.876693661011116e-120, 5.788240194571659e-121, -1.1645318708077808e-121, 2.3426624017696587e-122, -4.712192867805282e-123, 9.477480440892048e-124, -1.9059900815647454e-124, 3.83272477086879e-125, -7.706464723880295e-126, 1.549403659395338e-126, -3.114848956792821e-127, 6.261431082870267e-128, -1.2585646795225337e-128, 2.529553556717186e-129, -5.083697109108262e-130, 1.0216071191159951e-130, -2.0528517203881234e-131, 4.1247878359590744e-132, -8.287373588024049e-133, 1.6649621304663354e-133, -3.344758660613564e-134, 6.718912913764575e-135, -1.3496085530085933e-135, 2.7107656660950284e-136, -5.444427386661656e-137, 1.0934255873909445e-137, -2.195855365637569e-138, 4.4095712973976405e-139, -8.854576382833348e-140, 1.7779461838995754e-140, -3.5698456432514364e-141]\n"
          ]
        }
      ]
    },
    {
      "cell_type": "markdown",
      "metadata": {
        "id": "1EsLoBMqMA-L"
      },
      "source": [
        "## Viewing the predictions in the testing set"
      ]
    },
    {
      "cell_type": "code",
      "metadata": {
        "id": "TPp6zYZ6MA-L",
        "colab": {
          "base_uri": "https://localhost:8080/",
          "height": 284
        },
        "outputId": "2f2982fa-233c-4f71-f345-4a964d9dd9ac"
      },
      "source": [
        "import pandas as pd\n",
        "from IPython.display import display\n",
        "predictions={}\n",
        "predictions ['x']=X_test[:,0]\n",
        "predictions ['y']=y_test\n",
        "predictions['No reg'] = model_no_reg.predict(X_test)\n",
        "predictions['L1 reg'] = model_L1_reg.predict(X_test)\n",
        "predictions['L2 reg'] = model_L2_reg.predict(X_test)\n",
        "predictions=pd.DataFrame.from_dict(predictions)\n",
        "display(predictions)"
      ],
      "execution_count": 29,
      "outputs": [
        {
          "output_type": "display_data",
          "data": {
            "text/plain": [
              "          x          y        No reg     L1 reg     L2 reg\n",
              "0  1.681532  16.070558 -1.841189e+02  12.505433  11.937944\n",
              "1 -2.395077   7.723543  4.900291e+00   7.446692   7.659943\n",
              "2  3.653099   4.833669 -4.497281e+05   3.233591   5.659297\n",
              "3 -4.195542  -7.812998 -1.087032e+10 -10.505344  -8.489397\n",
              "4 -0.234030  10.927272  1.679760e+01  13.600790  12.792948\n",
              "5 -0.278573  16.365057  1.750341e+01  13.571518  12.760096\n",
              "6 -4.101756  -7.821475 -3.204828e+09  -9.338547  -7.074080\n",
              "7  4.328338   2.748648  6.110264e+08  10.522402   2.819741"
            ],
            "text/html": [
              "\n",
              "  <div id=\"df-5a13352b-0d24-4714-9b87-208acbb4165a\">\n",
              "    <div class=\"colab-df-container\">\n",
              "      <div>\n",
              "<style scoped>\n",
              "    .dataframe tbody tr th:only-of-type {\n",
              "        vertical-align: middle;\n",
              "    }\n",
              "\n",
              "    .dataframe tbody tr th {\n",
              "        vertical-align: top;\n",
              "    }\n",
              "\n",
              "    .dataframe thead th {\n",
              "        text-align: right;\n",
              "    }\n",
              "</style>\n",
              "<table border=\"1\" class=\"dataframe\">\n",
              "  <thead>\n",
              "    <tr style=\"text-align: right;\">\n",
              "      <th></th>\n",
              "      <th>x</th>\n",
              "      <th>y</th>\n",
              "      <th>No reg</th>\n",
              "      <th>L1 reg</th>\n",
              "      <th>L2 reg</th>\n",
              "    </tr>\n",
              "  </thead>\n",
              "  <tbody>\n",
              "    <tr>\n",
              "      <th>0</th>\n",
              "      <td>1.681532</td>\n",
              "      <td>16.070558</td>\n",
              "      <td>-1.841189e+02</td>\n",
              "      <td>12.505433</td>\n",
              "      <td>11.937944</td>\n",
              "    </tr>\n",
              "    <tr>\n",
              "      <th>1</th>\n",
              "      <td>-2.395077</td>\n",
              "      <td>7.723543</td>\n",
              "      <td>4.900291e+00</td>\n",
              "      <td>7.446692</td>\n",
              "      <td>7.659943</td>\n",
              "    </tr>\n",
              "    <tr>\n",
              "      <th>2</th>\n",
              "      <td>3.653099</td>\n",
              "      <td>4.833669</td>\n",
              "      <td>-4.497281e+05</td>\n",
              "      <td>3.233591</td>\n",
              "      <td>5.659297</td>\n",
              "    </tr>\n",
              "    <tr>\n",
              "      <th>3</th>\n",
              "      <td>-4.195542</td>\n",
              "      <td>-7.812998</td>\n",
              "      <td>-1.087032e+10</td>\n",
              "      <td>-10.505344</td>\n",
              "      <td>-8.489397</td>\n",
              "    </tr>\n",
              "    <tr>\n",
              "      <th>4</th>\n",
              "      <td>-0.234030</td>\n",
              "      <td>10.927272</td>\n",
              "      <td>1.679760e+01</td>\n",
              "      <td>13.600790</td>\n",
              "      <td>12.792948</td>\n",
              "    </tr>\n",
              "    <tr>\n",
              "      <th>5</th>\n",
              "      <td>-0.278573</td>\n",
              "      <td>16.365057</td>\n",
              "      <td>1.750341e+01</td>\n",
              "      <td>13.571518</td>\n",
              "      <td>12.760096</td>\n",
              "    </tr>\n",
              "    <tr>\n",
              "      <th>6</th>\n",
              "      <td>-4.101756</td>\n",
              "      <td>-7.821475</td>\n",
              "      <td>-3.204828e+09</td>\n",
              "      <td>-9.338547</td>\n",
              "      <td>-7.074080</td>\n",
              "    </tr>\n",
              "    <tr>\n",
              "      <th>7</th>\n",
              "      <td>4.328338</td>\n",
              "      <td>2.748648</td>\n",
              "      <td>6.110264e+08</td>\n",
              "      <td>10.522402</td>\n",
              "      <td>2.819741</td>\n",
              "    </tr>\n",
              "  </tbody>\n",
              "</table>\n",
              "</div>\n",
              "      <button class=\"colab-df-convert\" onclick=\"convertToInteractive('df-5a13352b-0d24-4714-9b87-208acbb4165a')\"\n",
              "              title=\"Convert this dataframe to an interactive table.\"\n",
              "              style=\"display:none;\">\n",
              "        \n",
              "  <svg xmlns=\"http://www.w3.org/2000/svg\" height=\"24px\"viewBox=\"0 0 24 24\"\n",
              "       width=\"24px\">\n",
              "    <path d=\"M0 0h24v24H0V0z\" fill=\"none\"/>\n",
              "    <path d=\"M18.56 5.44l.94 2.06.94-2.06 2.06-.94-2.06-.94-.94-2.06-.94 2.06-2.06.94zm-11 1L8.5 8.5l.94-2.06 2.06-.94-2.06-.94L8.5 2.5l-.94 2.06-2.06.94zm10 10l.94 2.06.94-2.06 2.06-.94-2.06-.94-.94-2.06-.94 2.06-2.06.94z\"/><path d=\"M17.41 7.96l-1.37-1.37c-.4-.4-.92-.59-1.43-.59-.52 0-1.04.2-1.43.59L10.3 9.45l-7.72 7.72c-.78.78-.78 2.05 0 2.83L4 21.41c.39.39.9.59 1.41.59.51 0 1.02-.2 1.41-.59l7.78-7.78 2.81-2.81c.8-.78.8-2.07 0-2.86zM5.41 20L4 18.59l7.72-7.72 1.47 1.35L5.41 20z\"/>\n",
              "  </svg>\n",
              "      </button>\n",
              "      \n",
              "  <style>\n",
              "    .colab-df-container {\n",
              "      display:flex;\n",
              "      flex-wrap:wrap;\n",
              "      gap: 12px;\n",
              "    }\n",
              "\n",
              "    .colab-df-convert {\n",
              "      background-color: #E8F0FE;\n",
              "      border: none;\n",
              "      border-radius: 50%;\n",
              "      cursor: pointer;\n",
              "      display: none;\n",
              "      fill: #1967D2;\n",
              "      height: 32px;\n",
              "      padding: 0 0 0 0;\n",
              "      width: 32px;\n",
              "    }\n",
              "\n",
              "    .colab-df-convert:hover {\n",
              "      background-color: #E2EBFA;\n",
              "      box-shadow: 0px 1px 2px rgba(60, 64, 67, 0.3), 0px 1px 3px 1px rgba(60, 64, 67, 0.15);\n",
              "      fill: #174EA6;\n",
              "    }\n",
              "\n",
              "    [theme=dark] .colab-df-convert {\n",
              "      background-color: #3B4455;\n",
              "      fill: #D2E3FC;\n",
              "    }\n",
              "\n",
              "    [theme=dark] .colab-df-convert:hover {\n",
              "      background-color: #434B5C;\n",
              "      box-shadow: 0px 1px 3px 1px rgba(0, 0, 0, 0.15);\n",
              "      filter: drop-shadow(0px 1px 2px rgba(0, 0, 0, 0.3));\n",
              "      fill: #FFFFFF;\n",
              "    }\n",
              "  </style>\n",
              "\n",
              "      <script>\n",
              "        const buttonEl =\n",
              "          document.querySelector('#df-5a13352b-0d24-4714-9b87-208acbb4165a button.colab-df-convert');\n",
              "        buttonEl.style.display =\n",
              "          google.colab.kernel.accessAllowed ? 'block' : 'none';\n",
              "\n",
              "        async function convertToInteractive(key) {\n",
              "          const element = document.querySelector('#df-5a13352b-0d24-4714-9b87-208acbb4165a');\n",
              "          const dataTable =\n",
              "            await google.colab.kernel.invokeFunction('convertToInteractive',\n",
              "                                                     [key], {});\n",
              "          if (!dataTable) return;\n",
              "\n",
              "          const docLinkHtml = 'Like what you see? Visit the ' +\n",
              "            '<a target=\"_blank\" href=https://colab.research.google.com/notebooks/data_table.ipynb>data table notebook</a>'\n",
              "            + ' to learn more about interactive tables.';\n",
              "          element.innerHTML = '';\n",
              "          dataTable['output_type'] = 'display_data';\n",
              "          await google.colab.output.renderOutput(dataTable, element);\n",
              "          const docLink = document.createElement('div');\n",
              "          docLink.innerHTML = docLinkHtml;\n",
              "          element.appendChild(docLink);\n",
              "        }\n",
              "      </script>\n",
              "    </div>\n",
              "  </div>\n",
              "  "
            ]
          },
          "metadata": {}
        }
      ]
    },
    {
      "cell_type": "code",
      "source": [
        ""
      ],
      "metadata": {
        "id": "w1piyPtyyyjx"
      },
      "execution_count": null,
      "outputs": []
    }
  ]
}